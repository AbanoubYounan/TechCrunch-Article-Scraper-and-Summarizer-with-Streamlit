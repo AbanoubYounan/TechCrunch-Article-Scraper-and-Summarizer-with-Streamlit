{
 "cells": [
  {
   "cell_type": "code",
   "execution_count": 3,
   "metadata": {},
   "outputs": [],
   "source": [
    "from bs4 import BeautifulSoup\n",
    "import requests"
   ]
  },
  {
   "cell_type": "code",
   "execution_count": null,
   "metadata": {},
   "outputs": [],
   "source": [
    "def fetch_articles_url():\n",
    "    \"\"\"Fetch latest TechCrunch articles urls using BeautifulSoup.\"\"\"\n",
    "    url = \"https://techcrunch.com/latest/\"\n",
    "    headers = {\n",
    "        \"User-Agent\": \"Mozilla/5.0 (Windows NT 10.0; Win64; x64) AppleWebKit/537.36 (KHTML, like Gecko) Chrome/120.0.0.0 Safari/537.36\"\n",
    "    }\n",
    "\n",
    "    try:\n",
    "        response = requests.get(url, headers=headers, timeout=10)\n",
    "        response.raise_for_status()\n",
    "    except requests.exceptions.RequestException as e:\n",
    "        print(f\"⚠️ Connection Error: {e}\")\n",
    "        return []\n",
    "\n",
    "    soup = BeautifulSoup(response.text, \"html.parser\")\n",
    "    articles = soup.find_all(\"a\", class_=\"loop-card__title-link\")\n",
    "\n",
    "    article_url_list = []\n",
    "    for article in articles[:3]:\n",
    "        article_url_list.append(article['data-destinationlink'])\n",
    "\n",
    "    return article_url_list"
   ]
  },
  {
   "cell_type": "code",
   "execution_count": 14,
   "metadata": {},
   "outputs": [
    {
     "data": {
      "text/plain": [
       "['https://techcrunch.com/2025/03/02/trump-calls-for-creation-of-crypto-strategic-reserve/',\n",
       " 'https://techcrunch.com/2025/03/02/avirons-2499-gamified-treadmill-will-keep-you-on-your-toes/',\n",
       " 'https://techcrunch.com/2025/03/02/last-chance-last-24-hours-to-save-up-to-325-on-techcrunch-sessions-ai/']"
      ]
     },
     "execution_count": 14,
     "metadata": {},
     "output_type": "execute_result"
    }
   ],
   "source": [
    "fetch_articles_url()"
   ]
  },
  {
   "cell_type": "code",
   "execution_count": null,
   "metadata": {},
   "outputs": [],
   "source": [
    "def fetch_articles():\n",
    "    articles=[]\n",
    "    article_urls = fetch_articles_url()\n",
    "    for url in article_urls:\n",
    "        headers = {\n",
    "            \"User-Agent\": \"Mozilla/5.0 (Windows NT 10.0; Win64; x64) AppleWebKit/537.36 (KHTML, like Gecko) Chrome/120.0.0.0 Safari/537.36\"\n",
    "        }\n",
    "\n",
    "        try:\n",
    "            response = requests.get(url, headers=headers, timeout=10)\n",
    "            response.raise_for_status()\n",
    "        except requests.exceptions.RequestException as e:\n",
    "            print(f\"⚠️ Connection Error: {e}\")\n",
    "            return []\n",
    "\n",
    "        soup = BeautifulSoup(response.text, \"html.parser\")\n",
    "\n",
    "        title = soup.find('h1', class_=\"article-hero__title wp-block-post-title\")\n",
    "        authors = soup.find('a', class_=\"wp-block-tc23-author-card-name__link\")\n",
    "        paragraphs = soup.find_all(\"p\", class_=\"wp-block-paragraph\")\n",
    "\n",
    "        content = ''\n",
    "        for paragraph in paragraphs[:-2]:\n",
    "            content += paragraph.get_text()\n",
    "        articles.append({'title': title.get_text(), 'authors': authors.get_text(), 'content': content})\n",
    "\n",
    "    return articles\n"
   ]
  },
  {
   "cell_type": "code",
   "execution_count": 23,
   "metadata": {},
   "outputs": [
    {
     "data": {
      "text/plain": [
       "[{'title': 'Trump calls for creation of a ‘crypto strategic reserve’',\n",
       "  'authors': 'Anthony Ha',\n",
       "  'content': 'President Donald Trump is throwing his support behind the creation of a federal reserve of cryptocurrency assets — initially highlighting XRP, Solana, and Cardano for inclusion, then later adding Bitcoin and Ethereum.In January, Trump issued an executive order calling for the formation of a working group that would study and make recommendations around crypto policy, including “the potential creation and maintenance of a national digital asset stockpile.”The working group was supposed to “propose criteria for establishing such a stockpile,” which could be “potentially derived from cryptocurrencies lawfully seized by the Federal Government through its law enforcement efforts.”In a post Sunday morning on his social network Truth Social, Trump seemed to go further, making it clear that he wants to see the reserve become a reality.\\xa0“A U.S. Crypto Reserve will elevate this critical industry after years of corrupt attacks by the Biden Administration, which is why my Executive Order on Digital Assets directed the Presidential Working Group to move forward on a Crypto Strategic Reserve that includes XRP, SOL, and ADA,” Trump wrote. “I will make sure the U.S. is the Crypto Capital of the World.”As of publication time, the prices of all three of the cryptocurrencies mentioned in Trump’s post had shot up by 20% or more. Then he wrote in a follow-up post, “And, obviously, BTC and ETH, as other valuable Cryptocurrencies, will be the heart of the Reserve. I also love Bitcoin and Ethereum!”As Trump acknowledged in his post, his executive order seemed directed at undoing the crypto regulatory framework put in place by former President Joe Biden.Under the Trump administration, the Securities and Exchange Commission has taken a friendlier, deregulatory stance towards the industry, dismissing its lawsuit against Coinbase and declaring that memecoins are not securities. (The value of Trump’s own $TRUMP coin has plummeted since his inauguration.)Trump has also signed an executive order calling for the creation of a U.S. sovereign wealth fund that he said could be used to purchase TikTok.This post has been updated to reflect Trump’s follow-up message mentioning Bitcoin and Ethereum.'},\n",
       " {'title': 'Aviron’s $2,499 gamified treadmill will keep you on your toes',\n",
       "  'authors': 'Brian Heater',\n",
       "  'content': 'Aviron’s home fitness equipment operates on a simple principle: People hate working out. But many of those same people love playing video games. Perhaps the only thing standing between them and a more active lifestyle is some health competition and well-timed distraction.It’s the same gamification concept that made Nintendo’s Wii and VR games like Beat Saber hits. Instead of bringing the workout to video games, however, Aviron bring video games to the workout.Founded in 2018, the Toronto-based startup made itself known in 2022 with the release of a gamified rowing machine. The pandemic was a predictably great time to launch a connected fitness startup, as gym closures left many predicting a future centered around home workouts. Gamification works well with rowing’s speed up/slow down nature. It’s clear why Aviron came out of the gate with a rowing machine, rather than the more familiar treadmill or bike. With a platform in place, the company has since diversified into those form factors, as well. Aviron announced a bike in August 2024. Within a few months, it added connected dumbbells and the Victory Treadmill to the lineup.Amid a deluge of Peloton and NordicTrack wannabes, Aviron offers differentiation. Where brands like Peloton dominated the market through an almost cult-like devotion to its instructors and classes, Aviron continues to bank on gaming to set itself apart. The good news for the Victory Treadmill is that Aviron has built a robust software and gaming experience for the rower and bike that can largely be ported over to the new hardware.Most of the titles available here will be familiar if you’ve spent time with Aviron’s other machines. Instead of basing your gameplay on how strongly you row or how quickly you pedal, however, the Victory uses elements like walking/running speed and incline to control the titles.Playing a fishing game or Aviron’s equivalent of the brick and ball game, Breakout, is less natural on a treadmill. The company addresses this to a certain degree with a pair of almost joystick-like controllers. It’s a clever solution that makes the process of adjusting speed an incline more dynamic. Most of us are used to typing in a couple of numbers and getting started.The Victory treadmill demands you engage with these things more directly while working out. On the whole, I found it easier to get lost in the competitive aspect of gaming on the rower than the treadmill. It simply feels less intuitive interacting with games when walking or running.The good news, however, is that there’s no shortage of distractions to tap into on the 22-inch touchscreen. I found myself watching a lot of YouTube and essentially falling back into familiar gym habits. You can also log into most of the big-name streaming services, including Netflix, Hulu, Disney+, and Max, as well as Spotify.Beyond these, Aviron offers up scenic virtual routes and a small — but growing — selection of classes. It’s clear the company hasn’t made the same sort of massive investment in instructors/classes that we’ve seen from the likes of Peloton, but that content is more of a supplement to the core gaming offering.The connected fitness market has changed a lot in the three years since Aviron released its rower. Companies like Peloton bought too much into their own hype, suffering extreme financial consequences when excitement slowed. Even so, there’s still plenty of competition — especially when it comes to well-established categories like the treadmill.There’s a broad range of quality when it comes to home treadmills, from $5,000 NordicTracks to $200 foldable systems. At $2,499, the Victory splits the difference in terms of pricing. It’s not as massive or solid as one of the systems you’ll encounter at the gym, but it’s solid quality, none the less, and should last a while. The controls are responsive, the belt speed goes up to 12.5 mph, and the system’s low-to-the-ground profile lends it stability.The broad content selection, meanwhile, means the system isn’t likely to turn a $2,499 clothing rack any time soon.'},\n",
       " {'title': 'Last chance! Last 24 hours to save up to $325 on TechCrunch Sessions: AI',\n",
       "  'authors': 'TechCrunch Events',\n",
       "  'content': 'Tonight is the night and the clock is winding down to register for TechCrunch Sessions: AI at our Super Early Bird pricing. Register before 11:59 p.m. PT so you can save up to $325 on passes!TC Sessions: AI will bring you invaluable insights into the cutting-edge and ever-evolving world of AI through expert-led main stage sessions with AI pioneers, hands-on demos in the Expo Hall, interactive breakouts, and unparalleled networking opportunities. Whether you’re an experienced AI whiz or you just want to know about the world of AI, join us for a jam-packed day to remember on June 5 in Zellerbach Hall at UC Berkeley.Register by tonight before 11:59 p.m. PT to save up to $325!Leaders and shakers in the AI industry will join TC Sessions: AI to share their invaluable insights on the main stage. Here’s a small preview of who you’ll be able to learn from at the event.As the co-founder and CEO of Twelve Labs, Jae Lee is on a mission to transform how developers and enterprises analyze and understand massive video corpora. Lee leads the development of advanced multimodal foundation models, with aims of pushing the boundaries of AI-powered video intelligence.Jae will take the main stage alongside Sara Hooker, VP of Research at Cohere, to discuss “How Founders Can Build on Existing Foundational Models.”Oliver Cameron is looking at the next frontier of artificial intelligence at his AI startup Odyssey. Odyssey is pioneering “world models” able to generate “cinematic, interactive worlds in real time.” Before Odyssey, Cameron was co-founder and CEO of the autonomous vehicle startup Voyage.Cameron joins TC Sessions: AI for a main stage talk about how small companies can compete against established ones in the fast-paced and rapidly changing AI market.\\xa0Kanu Gulati has spent her career pushing the boundaries of AI and innovation, whether it be in a research lab or as a VC. As a partner at Khosla Ventures, Gulati invests in transformative AI, robotics, and autonomous systems and has backed companies like PolyAI, Regie, and Waabi. Gulati previously spent more than a decade as a scientist at Intel and Cadence and was the co-founder of multiple startups, two of which were acquired.Kanu will join Jill Chase, a partner at CapitalG, for an in-depth discussion on “From Seed to Series C: What VCs Expect from Founders.”As the leader of AI safety at ElevenLabs, Artemis is dedicated to building responsible AI systems. Prior to this, she guided OpenAI’s efforts to ensure the safe deployment of its models and spearheaded Meta’s global response to geopolitical and adversarial threats. With a PhD in political science and a JD from Stanford, her career spans management consulting, international policy, legal frameworks, and civil society.As investment partner at CapitalG, Jill Chase leads the AI investing practice for Alphabet’s independent growth fund. With a background working alongside senior Googlers and AI experts, she has refined her AI/ML investment thesis and worked with leading founders and technologists in the space.Jill has spearheaded investments in Magic, /dev/agents, and Motif at CapitalG. She also lectures at the Stanford Graduate School of Business, has served as CEO of a private equity-backed company, and founded a Y Combinator-backed startup.Jill and Kanu will take the stage together for a deep dive into “From Seed to Series C: What VCs Expect from Founders.”As the leader of Cohere for AI, Sara Hooker drives cutting-edge research in machine learning, tackling complex challenges and pushing the boundaries of AI. Before joining Cohere, she made significant contributions at Google Brain, focusing on efficient model training and multi-criteria optimization. Her work ensures that AI models are not only powerful but also interpretable, efficient, fair, and robust. At Cohere, she leads a team dedicated to making large language models more efficient, safe, and well-grounded. A PhD graduate from Mila AI Institute, she co-founded the Trustworthy ML Initiative and advises organizations like Kaggle and the World Economic Forum. In 2024, TIME recognized her among the 100 Most Influential People in AI.Want to join in on the action? If you’re an AI expert who can have insightful discussions with innovators and entrepreneurs, we want to see you at TechCrunch Sessions: AI! Apply here by March 7 for a chance to help develop the minds of future AI leaders with your expertise.If you’re ready to take the plunge to learn from — and network with — AI experts, register for TechCrunch Sessions: AI now to secure your spot, and save at least $300. Be warned, prices will be raised after 11:59 p.m. PT tonight.\\xa0Want more deals and promotions to TechCrunch events like this? Subscribe to our TechCrunch Events newsletter and you’ll be the first to know when they happen.Are you an AI expert who can drive powerful discussions with tech innovators and entrepreneurs? We want to hear from you!\\xa0Apply by March 7\\xa0for a chance to share your expertise and shape the future of the AI community.Is your company interested in sponsoring or exhibiting at TechCrunch Sessions: AI? Contact our sponsorship sales team by filling out this form.'}]"
      ]
     },
     "execution_count": 23,
     "metadata": {},
     "output_type": "execute_result"
    }
   ],
   "source": [
    "fetch_articles()"
   ]
  },
  {
   "cell_type": "code",
   "execution_count": null,
   "metadata": {},
   "outputs": [],
   "source": []
  }
 ],
 "metadata": {
  "kernelspec": {
   "display_name": ".venv",
   "language": "python",
   "name": "python3"
  },
  "language_info": {
   "codemirror_mode": {
    "name": "ipython",
    "version": 3
   },
   "file_extension": ".py",
   "mimetype": "text/x-python",
   "name": "python",
   "nbconvert_exporter": "python",
   "pygments_lexer": "ipython3",
   "version": "3.13.1"
  }
 },
 "nbformat": 4,
 "nbformat_minor": 2
}
